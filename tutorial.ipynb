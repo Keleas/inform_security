{
 "cells": [
  {
   "cell_type": "markdown",
   "metadata": {},
   "source": [
    "# Реализация Digital Signature Algorithm\n",
    "\n",
    "**Digital Signature Algorithm (DSA — алгоритм цифровой подписи)** — криптографический алгоритм с использованием закрытого ключа (из пары ключей: <открытый; закрытый>) для создания электронной подписи, но не для шифрования (в отличие от RSA и схемы Эль-Гамаля). \n",
    "\n",
    "Подпись создается секретно (закрытым ключом), но может быть публично проверена (открытым ключом). Это означает, что только один субъект может создать подпись сообщения, но любой может проверить её корректность.\n",
    "\n",
    "Алгоритм основан на вычислительной сложности взятия логарифмов в конечных полях."
   ]
  },
  {
   "cell_type": "markdown",
   "metadata": {},
   "source": [
    "### Иллюстрация алгоритма:\n",
    "<img src=\"https://upload.wikimedia.org/wikipedia/commons/a/a9/Dsa_workflow_rus.png\">\n",
    "\n",
    "### Алгоритм решения\n",
    "\n",
    "1. Выбрать $L$-битный прайм-$р$, так, чтобы он удовлетворял следующему:\n",
    "    - $512 <= L <= 1024$\n",
    "    - $64$ деления $L$\n",
    "    - $p-1$ имеет 160-битный прайм-фактор, например $q$.\n",
    "2. Выбрать $g$, который принадлежит к группе $Zp^*$ так, чтобы порядок $g$ был $q$\n",
    "3. Выбрать число равномерно случайным образом из множества ${2,3,...,q-1}$\n",
    "4. Вычислить $h = g^a \\ mod \\ p$\n",
    "5. Ключ проверки = $(p,q,g,h)$\n",
    "6. Ключ подписи = $a$\n",
    "\n",
    "\n",
    "### Процесс подписи\n",
    "\n",
    "В качестве входа является документ $F$, ключ верификации и ключ подписи. Выводом является подпись для $F$ в ```data/signature.txt```.\n",
    "\n",
    "1. Выбрать случайный элемент $r: 1 <= r <= q-1$\n",
    "2. Вычислить $C_1 = (g^r \\ mod \\ p) \\ mod \\ q$\n",
    "3. Вычислить $C_2 = (int(SHA1(F))) + a  C_1)r^{-1} \\ mod \\ q$\n",
    "4. Если $C_1 = 0$ или $C_2 = 0$, следует выбрать новое случайное значение r и пересчитать $C_1$, $C_2$\n",
    "5. Вывести $(C1, C2)$ в качестве подписи для документа $F$\n",
    "\n",
    "\n",
    "### Процесс верификации \n",
    "\n",
    "В качестве входа является пара документ и подпись $(F, (C_1, C_2))$ и VerKey (p, q, g, h).\n",
    "\n",
    "1. Вычислить $t_1 = int(SHA1(F)) * C_2^{-1} \\ mod \\ q$\n",
    "2. Вычислить $t_2 = C_1 * C_2^{-1} \\ mod \\ q$\n",
    "3. Если $(g^{t_1} * h^{t_2} \\ mod \\ p) \\ mod \\ q = C_1$, то подпись действительна, иначе подпись недействительна\n"
   ]
  },
  {
   "cell_type": "markdown",
   "metadata": {},
   "source": [
    "# Демонстрация решения"
   ]
  },
  {
   "cell_type": "code",
   "execution_count": 1,
   "metadata": {},
   "outputs": [],
   "source": [
    "import os\n",
    "\n",
    "from src.key import key_generation\n",
    "from src.sign import sign, verification"
   ]
  },
  {
   "cell_type": "markdown",
   "metadata": {},
   "source": [
    "## Чтение документа для подписи"
   ]
  },
  {
   "cell_type": "code",
   "execution_count": 2,
   "metadata": {},
   "outputs": [],
   "source": [
    "file_name = 'doc.txt'"
   ]
  },
  {
   "cell_type": "markdown",
   "metadata": {},
   "source": [
    "### Проверка файла и директории"
   ]
  },
  {
   "cell_type": "code",
   "execution_count": 3,
   "metadata": {},
   "outputs": [],
   "source": [
    "if not os.path.isdir('data'):\n",
    "    os.mkdir('data')\n",
    "    \n",
    "if not os.path.isfile(f'data/{file_name}'):\n",
    "    print(f'Create simple message for {file_name} file...')\n",
    "    simple_message = 'Hello world!'\n",
    "    file = open(f\"data/{file_name}\", \"w\")\n",
    "    file.write(simple_message)\n",
    "    file.write(\"\\n\")\n",
    "    file.close()"
   ]
  },
  {
   "cell_type": "markdown",
   "metadata": {},
   "source": [
    "### Содержание документа"
   ]
  },
  {
   "cell_type": "code",
   "execution_count": 4,
   "metadata": {},
   "outputs": [
    {
     "name": "stdout",
     "output_type": "stream",
     "text": [
      "Delete before read.\n",
      "It's serious question - would you like a tomate juice?\n"
     ]
    }
   ],
   "source": [
    "with open(f'data/{file_name}', 'r') as file:\n",
    "    message = file.read()\n",
    "    print(message)"
   ]
  },
  {
   "cell_type": "markdown",
   "metadata": {},
   "source": [
    "## Создадим ключ"
   ]
  },
  {
   "cell_type": "code",
   "execution_count": 5,
   "metadata": {
    "scrolled": true
   },
   "outputs": [
    {
     "name": "stdout",
     "output_type": "stream",
     "text": [
      "Computing key values, please wait...\n",
      "p =  143730415632815857251629835921439553316475944667997939180132860490518584771784437837160858489650484680504785454990117075520236795545801076232695634674740427515010559001531257\n",
      "q =  870984545871652160342030840793606137846256289691\n",
      "g =  7295764318237127076587627316436346790042269759246857213493612493100266684970334056007248574803855884194420070605525219073718132552921026211432647416831040021536755348522715\n",
      "h =  136546672615172778997646061033112686861266525328520068923266036596942269403504994335738550244570007324762552506838496789394899011515076980725533507100723910013147919945846992\n",
      "a =  661102633699384079157598972043919091075614232169\n",
      "Verification key stored at data/key.txt and secret key stored at data/secret_key.txt\n"
     ]
    }
   ],
   "source": [
    "key_generation()"
   ]
  },
  {
   "cell_type": "markdown",
   "metadata": {},
   "source": [
    "## Создадим подпись на основе ключа"
   ]
  },
  {
   "cell_type": "code",
   "execution_count": 6,
   "metadata": {},
   "outputs": [
    {
     "name": "stdout",
     "output_type": "stream",
     "text": [
      "Signing the file...\n",
      "hash =  729231516461238860167057583315706068465413541073\n",
      "c1 =  255789384869263148990177519013882297399698464779\n",
      "c2 =  375453649704671206983254924308149892403553096862\n",
      "cipher stored at signature.txt\n"
     ]
    }
   ],
   "source": [
    "sign(file_name)"
   ]
  },
  {
   "cell_type": "markdown",
   "metadata": {},
   "source": [
    "## Проверка подписи"
   ]
  },
  {
   "cell_type": "code",
   "execution_count": 7,
   "metadata": {},
   "outputs": [
    {
     "name": "stdout",
     "output_type": "stream",
     "text": [
      "Verification process...\n",
      "c1 =  255789384869263148990177519013882297399698464779\n",
      "c2 =  375453649704671206983254924308149892403553096862\n",
      "hash =  729231516461238860167057583315706068465413541073\n",
      "Valid signature\n"
     ]
    }
   ],
   "source": [
    "verification(file_name)"
   ]
  },
  {
   "cell_type": "code",
   "execution_count": null,
   "metadata": {},
   "outputs": [],
   "source": []
  }
 ],
 "metadata": {
  "kernelspec": {
   "display_name": "Python 3",
   "language": "python",
   "name": "python3"
  },
  "language_info": {
   "codemirror_mode": {
    "name": "ipython",
    "version": 3
   },
   "file_extension": ".py",
   "mimetype": "text/x-python",
   "name": "python",
   "nbconvert_exporter": "python",
   "pygments_lexer": "ipython3",
   "version": "3.7.7"
  }
 },
 "nbformat": 4,
 "nbformat_minor": 4
}
